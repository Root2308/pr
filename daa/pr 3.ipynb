{
 "cells": [
  {
   "cell_type": "code",
   "execution_count": 13,
   "id": "70ec4037-e7a9-493a-ad7f-b35ee2f053d9",
   "metadata": {},
   "outputs": [
    {
     "name": "stdout",
     "output_type": "stream",
     "text": [
      "60\n",
      "160\n",
      "240\n"
     ]
    }
   ],
   "source": [
    "def fractional_knapsack():\n",
    "    weights=[10,20,30]\n",
    "    values=[60,100,120]\n",
    "    capacity=50\n",
    "    res=0\n",
    "\n",
    "    for pair in sorted(zip(weights,values),key=lambda x:x[1]/x[0],reverse=True):\n",
    "        if capacity == 0:\n",
    "            break\n",
    "        if pair[0] > capacity:\n",
    "            res+=int(capacity*(pair[1]/pair[0]))\n",
    "            capacity=0\n",
    "        elif pair[0] <= capacity:\n",
    "            res+=pair[1]\n",
    "            capacity-=pair[0]\n",
    "\n",
    "        print(res)\n",
    "\n",
    "if __name__==\"__main__\":\n",
    "    fractional_knapsack()"
   ]
  },
  {
   "cell_type": "code",
   "execution_count": null,
   "id": "c8d772dd-bd32-4330-8268-3fec9a26520e",
   "metadata": {},
   "outputs": [],
   "source": []
  }
 ],
 "metadata": {
  "kernelspec": {
   "display_name": "Python 3 (ipykernel)",
   "language": "python",
   "name": "python3"
  },
  "language_info": {
   "codemirror_mode": {
    "name": "ipython",
    "version": 3
   },
   "file_extension": ".py",
   "mimetype": "text/x-python",
   "name": "python",
   "nbconvert_exporter": "python",
   "pygments_lexer": "ipython3",
   "version": "3.12.1"
  }
 },
 "nbformat": 4,
 "nbformat_minor": 5
}
