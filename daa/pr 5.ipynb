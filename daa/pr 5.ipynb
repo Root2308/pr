{
 "cells": [
  {
   "cell_type": "code",
   "execution_count": 8,
   "id": "442cabcb-95ab-4ff1-b5ac-847d14cca8d2",
   "metadata": {},
   "outputs": [
    {
     "name": "stdout",
     "output_type": "stream",
     "text": [
      "0  1  0  0\n",
      "0  0  0  1\n",
      "1  0  0  0\n",
      "0  0  1  0\n",
      "\n",
      "0  0  1  0\n",
      "1  0  0  0\n",
      "0  0  0  1\n",
      "0  1  0  0\n",
      "\n"
     ]
    }
   ],
   "source": [
    "def n_queens(n):\n",
    "    col=set()\n",
    "    posDiag=set()\n",
    "    negDiag=set()\n",
    "    res=[]\n",
    "\n",
    "    board=[[\"0\"]*n for i in range(n)]\n",
    "\n",
    "    def backtrack(r):\n",
    "        if r==n:\n",
    "            copy=[\"  \".join(row) for row in board]\n",
    "            res.append(copy)\n",
    "            return\n",
    "\n",
    "        for c in range(n):\n",
    "            if c in col or (r+c) in posDiag or (r-c) in negDiag:\n",
    "                continue\n",
    "\n",
    "            col.add(c)\n",
    "            posDiag.add(r+c)\n",
    "            negDiag.add(r-c)\n",
    "            board[r][c]=\"1\"\n",
    "\n",
    "            backtrack(r+1)\n",
    "\n",
    "            col.remove(c)\n",
    "            posDiag.remove(r+c)\n",
    "            negDiag.remove(r-c)\n",
    "            board[r][c]=\"0\"\n",
    "\n",
    "    backtrack(0)\n",
    "\n",
    "    for sol in res:\n",
    "        for row in sol:\n",
    "            print(row)\n",
    "        print()\n",
    "\n",
    "n_queens(4)"
   ]
  },
  {
   "cell_type": "code",
   "execution_count": null,
   "id": "6321bb95-033f-4e3c-ba1e-5a017ccddde3",
   "metadata": {},
   "outputs": [],
   "source": []
  }
 ],
 "metadata": {
  "kernelspec": {
   "display_name": "Python 3 (ipykernel)",
   "language": "python",
   "name": "python3"
  },
  "language_info": {
   "codemirror_mode": {
    "name": "ipython",
    "version": 3
   },
   "file_extension": ".py",
   "mimetype": "text/x-python",
   "name": "python",
   "nbconvert_exporter": "python",
   "pygments_lexer": "ipython3",
   "version": "3.12.1"
  }
 },
 "nbformat": 4,
 "nbformat_minor": 5
}
