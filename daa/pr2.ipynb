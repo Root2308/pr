{
 "cells": [
  {
   "cell_type": "code",
   "execution_count": 20,
   "id": "ceeb96bf-4854-4570-af34-db21f39f5d73",
   "metadata": {},
   "outputs": [],
   "source": [
    "import heapq"
   ]
  },
  {
   "cell_type": "code",
   "execution_count": 27,
   "id": "b947dd2f-29e1-4d4f-ab81-b356ebb31c0e",
   "metadata": {},
   "outputs": [
    {
     "name": "stdout",
     "output_type": "stream",
     "text": [
      "f->0\n",
      "c->100\n",
      "d->101\n",
      "a->1100\n",
      "b->1101\n",
      "e->111\n"
     ]
    }
   ],
   "source": [
    "class Node:\n",
    "    def __init__(self,freq,symbol,left=None,right=None):\n",
    "        self.freq=freq\n",
    "        self.symbol=symbol\n",
    "        self.left=left\n",
    "        self.right=right\n",
    "        self.huff=''\n",
    "\n",
    "    def __lt__(self,nxt):\n",
    "        return self.freq < nxt.freq\n",
    "\n",
    "    def print_nodes(self,val=''):\n",
    "        new_val=val+str(self.huff)\n",
    "        if self.left:\n",
    "            self.left.print_nodes(new_val)\n",
    "        if self.right:\n",
    "            self.right.print_nodes(new_val)\n",
    "        if not self.left and not self.right:\n",
    "            print('{}->{}'.format(self.symbol,new_val))\n",
    "\n",
    "if __name__==\"__main__\":\n",
    "    chars=['a','b','c','d','e','f']\n",
    "    freq=[5,9,12,13,16,45]\n",
    "    nodes=[]\n",
    "    for i in range(len(chars)):\n",
    "        heapq.heappush(nodes,Node(freq[i],chars[i]))\n",
    "    while len(nodes) > 1:\n",
    "        left=heapq.heappop(nodes)\n",
    "        right=heapq.heappop(nodes)\n",
    "\n",
    "        left.huff=0\n",
    "        right.huff=1\n",
    "\n",
    "        new_node = Node(left.freq+right.freq,left.symbol+right.symbol,left,right)\n",
    "        heapq.heappush(nodes,new_node)\n",
    "\n",
    "    root_node=nodes[0]\n",
    "    root_node.print_nodes()"
   ]
  },
  {
   "cell_type": "code",
   "execution_count": null,
   "id": "6e2df11d-2b26-4c50-948d-53b4dfc5bd9d",
   "metadata": {},
   "outputs": [],
   "source": []
  }
 ],
 "metadata": {
  "kernelspec": {
   "display_name": "Python 3 (ipykernel)",
   "language": "python",
   "name": "python3"
  },
  "language_info": {
   "codemirror_mode": {
    "name": "ipython",
    "version": 3
   },
   "file_extension": ".py",
   "mimetype": "text/x-python",
   "name": "python",
   "nbconvert_exporter": "python",
   "pygments_lexer": "ipython3",
   "version": "3.12.1"
  }
 },
 "nbformat": 4,
 "nbformat_minor": 5
}
